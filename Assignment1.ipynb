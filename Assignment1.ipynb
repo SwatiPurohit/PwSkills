{
  "nbformat": 4,
  "nbformat_minor": 0,
  "metadata": {
    "colab": {
      "provenance": []
    },
    "kernelspec": {
      "name": "python3",
      "display_name": "Python 3"
    },
    "language_info": {
      "name": "python"
    }
  },
  "cells": [
    {
      "cell_type": "markdown",
      "source": [
        "Python Basics Question\n",
        "\n",
        "Q1: What is Python, and why is it popular?\n",
        "\n",
        "A1: Python is a programming language developed by Guido van Rossum. It is a   versatile, general-purpose language used for website and software development, task automation, data analysis, and data visualisation.\n",
        "It is popular because of the following reasons:\n",
        "a). It has a simple syntax that mimics natural language, so it’s easier to read and understand. This makes it quicker to build projects and faster to improve on them.\n",
        "b). It is versatile. Python can be used for many different tasks, from web development to machine learning.\n",
        "c). It is beginner-friendly, making it popular for entry-level coders.\n",
        "d). It is open source, which means it is free to use and distribute, even for commercial purposes.\n",
        "e). Python’s archive of modules and libraries—bundles of code that third-party users have created to expand Python’s capabilities—is vast and growing.\n",
        "f). Python has a large and active community that contributes to Python’s pool of modules and libraries and acts as a helpful resource for other programmers.\n",
        "\n",
        "\n",
        "---\n",
        "\n",
        "\n",
        "Q2. What is an interpreter in Python?\n",
        "A2. A Python interpreter is a program that converts Python code into machine-readable instructions and runs them, enabling us to execute Python scripts and view results instantly. It acts as a bridge between the high-level Python code we write and the low-level instructions that the computer can directly utilize.\n",
        "\n",
        "\n",
        "---\n",
        "\n",
        "\n",
        "Q3. What are pre-defined keywords in Python?\n",
        "A3. Pre-defined keywords in Python are special, reserved words that have specific meanings and functionalities within the language. These are case sensitive that can't be redefined in the code.They cannot be used as identifiers (e.g., variable names, function names, class names) in the code. For eg., for, while, if-elif-else, etc.\n",
        "\n",
        "---\n",
        "\n",
        "\n",
        "\n",
        "Q4. Can keywords be used as variable names\n",
        "A4. No. Keywords are used to control program flow (e.g., if, else, for, while), define functions (def), handle exceptions (try, except), and more.\n",
        "\n",
        "\n",
        "---\n",
        "\n",
        "\n",
        "Q5. What is mutability in Python\n",
        "A5. Mutable objects are those whose values can be changed in place after creation. This means you can alter their contents without creating a new object in memory. Examples of mutable types in Python include:\n",
        "Lists, Dictionaries, Sets, etc.\n",
        "\n",
        "\n",
        "---\n",
        "\n",
        "\n",
        "Q6. Why are lists mutable, but tuples are immutable\n",
        "A6. Lists(mutable) are designed to be dynamic, allowing for flexibility in data manipulation. They have built-in methods like append(), insert(), etc to modify it's contents in place.\n",
        "Tuples(immutable) are intended to represent fixed collections of data. They don't have methods to modify their elements directly. Attempting to change a tuple's elements will result in an error.\n",
        "\n",
        "\n",
        "---\n",
        "\n",
        "\n",
        "Q7. What is the difference between “==” and “is” operators in Python\n",
        "A7. Equality operator : \"==\"\n",
        "It determines if the values of two objects are the same.For eg:, list1 == list2 would be True if both lists contain the same elements in the same order.\n",
        "Identity operator:\"is\"\n",
        "This operator checks for object identity. It determines if two variables refer to the exact same object in memory.\n",
        "\n",
        "\n",
        "---\n",
        "\n",
        "\n",
        "Q8. What are logical operators in Python\n",
        "A8. Python offers three logical operators: and, or, and not.\n",
        "1.) and operator:\n",
        "It returns True if both operands are True and returns False if at least one operand is False.\n",
        "2.) or operator:\n",
        "It returns True if at least one operand is True and returns False if both operands are False.\n",
        "3.) not operator:\n",
        "A unary operator that reverses the Boolean value of its operand.\n",
        "If the operand is True, it returns False and if the operand is False, it will return True.\n",
        "\n",
        "\n",
        "---\n",
        "\n",
        "\n",
        "\n",
        "Q9. What is type casting in Python\n",
        "A9. Type casting or type conversion, is the process of converting a variable or value from one data type to another. This can be done explicitly (by  programmer) or implicitly (by interpreter).\n",
        "For eg., .int(), .float(), etc change the values to integers and float respectively.\n",
        "\n",
        "\n",
        "---\n",
        "\n",
        "\n",
        "Q10.What is the difference between implicit and explicit type casting\n",
        "A10. Explicit Type Casting:\n",
        "This involves manually converting a data type using built-in functions specific to the target type. Common functions include:\n",
        "int(), float(), list(), dict(), etc\n",
        "Implicit Type Casting:\n",
        "This occurs automatically when the Python interpreter converts data types to avoid errors during operations involving different types.\n",
        "Example: When adding an integer and a float, the integer is implicitly converted to a float before the addition.\n",
        "\n",
        "---\n",
        "\n",
        "\n",
        "Q11.What is the purpose of conditional statements in Python\n",
        "Conditional statements in Python are used to execute certain blocks of code based on specific conditions. These statements help control the flow of a program.For eg:, if, elif, else.\n",
        "There output is in boolean TRUE or FALSE. Proper indentation has to be followed.\n",
        "\n",
        "---\n",
        "\n",
        "\n",
        "Q12.How does the elif statement work\n",
        "elif statement allows for checking multiple conditions sequentially. If the if condition is False, the program checks the elif condition. Multiple elif statements can be used to handle various scenarios.\n",
        "eg,\n",
        "score = 75\n",
        "    if score >= 90:\n",
        "        print(\"Grade A\")\n",
        "    elif score >= 80:\n",
        "        print(\"Grade B\")\n",
        "    elif score >= 70:\n",
        "        print(\"Grade C\")\n",
        "    else:\n",
        "        print(\"Grade D or lower\")\n",
        "\n",
        "\n",
        "---\n",
        "\n",
        "\n",
        "Q13.What is the difference between for and while loops\n",
        "A13.for loops are used when we know the number of iterations beforehand, while while loops are used when the number of iterations is not known in advance and depends on a condition being met.\n",
        "For eg:, If we want to print the numbers from 1 to 5 usthen we will use a for loop\n",
        "for i in range(1, 6):\n",
        "    print(i)\n",
        " But if we want to print numbers starting from 1 and continues until it reaches a number less than 100, then we will use while\n",
        " i = 1\n",
        "while i < 100:\n",
        "    print(i)\n",
        "    i += 1  \n",
        "\n",
        "\n",
        "---\n",
        "\n",
        "\n",
        "Q14.Describe a scenario where a while loop is more suitable than a for loop.\n",
        "A while situations where the number of iterations is not predetermined and depends on some dynamic condition. For eg, if i want to read data from a file Until EOF(end of file) then since the number of iterations are not fixed, we will use while loop.\n",
        "eg.2: When there are complex conditions or when the value of variables can change and we need to exit the loop early based on dynamic conditions that may change during execution we should use while loop.\n"
      ],
      "metadata": {
        "id": "itzEJqEA3G80"
      }
    },
    {
      "cell_type": "markdown",
      "source": [
        "# **Practical Questions**"
      ],
      "metadata": {
        "id": "6xds6EE0xR6H"
      }
    },
    {
      "cell_type": "markdown",
      "source": [],
      "metadata": {
        "id": "JESJXbGYmKGr"
      }
    },
    {
      "cell_type": "markdown",
      "source": [
        "1. Write a Python program to print \"Hello, World!\""
      ],
      "metadata": {
        "id": "8U_WF6_oxao_"
      }
    },
    {
      "cell_type": "code",
      "execution_count": null,
      "metadata": {
        "id": "wAyKNOL13AK6",
        "colab": {
          "base_uri": "https://localhost:8080/"
        },
        "outputId": "9c4fdce7-19cf-49a9-d313-8c38f738941d"
      },
      "outputs": [
        {
          "output_type": "stream",
          "name": "stdout",
          "text": [
            "hello world\n"
          ]
        }
      ],
      "source": [
        "print(\"hello world\")\n"
      ]
    },
    {
      "cell_type": "markdown",
      "source": [
        "2. Write a Python program that displays your name and age"
      ],
      "metadata": {
        "id": "aJAMmGg7xmGf"
      }
    },
    {
      "cell_type": "code",
      "source": [
        "name= \"pwskill\"\n",
        "age=20\n",
        "print(f\"My name is {name} and I am {age} years old.\")"
      ],
      "metadata": {
        "colab": {
          "base_uri": "https://localhost:8080/"
        },
        "id": "AWqle2Fyxr-t",
        "outputId": "bf269225-3975-48ef-d5a2-6b767c75a5f6"
      },
      "execution_count": null,
      "outputs": [
        {
          "output_type": "stream",
          "name": "stdout",
          "text": [
            "My name is pwskill and I am 20 years old.\n"
          ]
        }
      ]
    },
    {
      "cell_type": "markdown",
      "source": [
        "3. Write code to print all the pre-defined keywords in Python using the keyword library"
      ],
      "metadata": {
        "id": "-2hUBKZYyNwg"
      }
    },
    {
      "cell_type": "code",
      "source": [
        "import keyword\n",
        "print(keyword.kwlist)"
      ],
      "metadata": {
        "colab": {
          "base_uri": "https://localhost:8080/"
        },
        "id": "z6RDaXYFyXhx",
        "outputId": "a3e04ead-8db5-42ec-d268-5a8466485d77"
      },
      "execution_count": null,
      "outputs": [
        {
          "output_type": "stream",
          "name": "stdout",
          "text": [
            "['False', 'None', 'True', 'and', 'as', 'assert', 'async', 'await', 'break', 'class', 'continue', 'def', 'del', 'elif', 'else', 'except', 'finally', 'for', 'from', 'global', 'if', 'import', 'in', 'is', 'lambda', 'nonlocal', 'not', 'or', 'pass', 'raise', 'return', 'try', 'while', 'with', 'yield']\n"
          ]
        }
      ]
    },
    {
      "cell_type": "markdown",
      "source": [
        "4. Write a program that checks if a given word is a Python keyword."
      ],
      "metadata": {
        "id": "gb4LCEwryr_F"
      }
    },
    {
      "cell_type": "code",
      "source": [
        "import keyword\n",
        "\n",
        "s = input(\"Enter a word to check: \")\n",
        "\n",
        "# Check if it's a Python keyword\n",
        "if keyword.iskeyword(s):\n",
        "    print(f\"'{s}' is a Python keyword.\")\n",
        "else:\n",
        "    print(f\"'{s}' is not a Python keyword.\")"
      ],
      "metadata": {
        "colab": {
          "base_uri": "https://localhost:8080/"
        },
        "id": "YIoz26HmzCcJ",
        "outputId": "0b842c08-e4a3-4068-ee8c-f09515fb956a"
      },
      "execution_count": null,
      "outputs": [
        {
          "output_type": "stream",
          "name": "stdout",
          "text": [
            "Enter a word to check: pwskill\n",
            "'pwskill' is not a Python keyword.\n"
          ]
        }
      ]
    },
    {
      "cell_type": "markdown",
      "source": [
        "5. Create a list and tuple in Python, and demonstrate how attempting to change an element works differently for each."
      ],
      "metadata": {
        "id": "o4xeVpAQzgGA"
      }
    },
    {
      "cell_type": "code",
      "source": [
        "# Create a list\n",
        "my_list = [10, 20, 30, 40]\n",
        "\n",
        "print(f\"Original list: {my_list}\")\n",
        "my_list[1] = 200  # Changing the element at index 1\n",
        "print(f\"Modified list: {my_list}\")\n",
        "\n",
        "# Create a tuple\n",
        "my_tuple = (10, 20, 30, 40)\n",
        "my_tuple[1] = 25  # Attempting to change the element at index 1\n",
        "print(f\"Error when modifying tuple\")"
      ],
      "metadata": {
        "colab": {
          "base_uri": "https://localhost:8080/",
          "height": 228
        },
        "id": "fZ_Q_pQR0KPn",
        "outputId": "95202399-6aa9-4fcf-e579-0c4265d6af93"
      },
      "execution_count": null,
      "outputs": [
        {
          "output_type": "stream",
          "name": "stdout",
          "text": [
            "Original list: [10, 20, 30, 40]\n",
            "Modified list: [10, 200, 30, 40]\n"
          ]
        },
        {
          "output_type": "error",
          "ename": "TypeError",
          "evalue": "'tuple' object does not support item assignment",
          "traceback": [
            "\u001b[0;31m---------------------------------------------------------------------------\u001b[0m",
            "\u001b[0;31mTypeError\u001b[0m                                 Traceback (most recent call last)",
            "\u001b[0;32m/tmp/ipython-input-13-2426809294.py\u001b[0m in \u001b[0;36m<cell line: 0>\u001b[0;34m()\u001b[0m\n\u001b[1;32m      8\u001b[0m \u001b[0;31m# Create a tuple\u001b[0m\u001b[0;34m\u001b[0m\u001b[0;34m\u001b[0m\u001b[0m\n\u001b[1;32m      9\u001b[0m \u001b[0mmy_tuple\u001b[0m \u001b[0;34m=\u001b[0m \u001b[0;34m(\u001b[0m\u001b[0;36m10\u001b[0m\u001b[0;34m,\u001b[0m \u001b[0;36m20\u001b[0m\u001b[0;34m,\u001b[0m \u001b[0;36m30\u001b[0m\u001b[0;34m,\u001b[0m \u001b[0;36m40\u001b[0m\u001b[0;34m)\u001b[0m\u001b[0;34m\u001b[0m\u001b[0;34m\u001b[0m\u001b[0m\n\u001b[0;32m---> 10\u001b[0;31m \u001b[0mmy_tuple\u001b[0m\u001b[0;34m[\u001b[0m\u001b[0;36m1\u001b[0m\u001b[0;34m]\u001b[0m \u001b[0;34m=\u001b[0m \u001b[0;36m25\u001b[0m  \u001b[0;31m# Attempting to change the element at index 1\u001b[0m\u001b[0;34m\u001b[0m\u001b[0;34m\u001b[0m\u001b[0m\n\u001b[0m\u001b[1;32m     11\u001b[0m \u001b[0mprint\u001b[0m\u001b[0;34m(\u001b[0m\u001b[0;34mf\"Error when modifying tuple\"\u001b[0m\u001b[0;34m)\u001b[0m\u001b[0;34m\u001b[0m\u001b[0;34m\u001b[0m\u001b[0m\n",
            "\u001b[0;31mTypeError\u001b[0m: 'tuple' object does not support item assignment"
          ]
        }
      ]
    },
    {
      "cell_type": "markdown",
      "source": [
        "6. Write a function to demonstrate the behavior of mutable and immutable arguments."
      ],
      "metadata": {
        "id": "zSnH7HYN2bZt"
      }
    },
    {
      "cell_type": "code",
      "source": [
        "def change_things(my_list, my_string):\n",
        "  \"\"\"\n",
        "  This function tries to change both a list (mutable) and a string (immutable).\n",
        "  \"\"\"\n",
        "  print(\"Inside the function:\")\n",
        "\n",
        "  # Changing the list (mutable)\n",
        "  print(f\"List before change: {my_list}\")\n",
        "  my_list.append(4)  # Add a new number to the list\n",
        "  print(f\"List after change: {my_list}\")\n",
        "\n",
        "  # Changing the string (immutable)\n",
        "  print(f\"String before change: '{my_string}'\")\n",
        "  my_string = my_string + \" World!\"  # Create a new string with \" World!\" added\n",
        "  print(f\"String after change: '{my_string}'\")\n",
        "\n",
        "my_favorite_numbers = [1, 2, 3]  # A list is mutable\n",
        "my_greeting = \"Hello\"           # A string is immutable\n",
        "\n",
        "print(\"--- Before calling the function ---\")\n",
        "print(f\"My numbers: {my_favorite_numbers}\")\n",
        "print(f\"My greeting: '{my_greeting}'\")\n",
        "\n",
        "change_things(my_favorite_numbers, my_greeting)\n",
        "\n",
        "print(\"\\n--- After calling the function ---\")\n",
        "print(f\"My numbers: {my_favorite_numbers}\")  # The list changed!\n",
        "print(f\"My greeting: '{my_greeting}'\")      # The string stayed the same!"
      ],
      "metadata": {
        "colab": {
          "base_uri": "https://localhost:8080/"
        },
        "id": "gFEFo0mj24M1",
        "outputId": "6de02a4c-7d52-4a17-9de0-9b88e8d75480"
      },
      "execution_count": null,
      "outputs": [
        {
          "output_type": "stream",
          "name": "stdout",
          "text": [
            "--- Before calling the function ---\n",
            "My numbers: [1, 2, 3]\n",
            "My greeting: 'Hello'\n",
            "Inside the function:\n",
            "List before change: [1, 2, 3]\n",
            "List after change: [1, 2, 3, 4]\n",
            "String before change: 'Hello'\n",
            "String after change: 'Hello World!'\n",
            "\n",
            "--- After calling the function ---\n",
            "My numbers: [1, 2, 3, 4]\n",
            "My greeting: 'Hello'\n"
          ]
        }
      ]
    },
    {
      "cell_type": "markdown",
      "source": [
        "7. Write a program that performs basic arithmetic operations on two user-input numbers."
      ],
      "metadata": {
        "id": "tbMrJXTK38Ho"
      }
    },
    {
      "cell_type": "code",
      "source": [
        "# Get input from the user for two numbers\n",
        "\n",
        "num1 = int(input(\"Enter the first number: \"))\n",
        "num2 = int(input(\"Enter the second number: \"))\n",
        "\n",
        "\n",
        "# Perform arithmetic operations\n",
        "addition = num1 + num2\n",
        "subtraction = num1 - num2\n",
        "multiplication = num1 * num2\n",
        "division = num1/num2\n",
        "\n",
        "\n",
        "# Display the results\n",
        "print(f\"\\nResults:\")\n",
        "print(f\"Addition: {num1} + {num2} = {addition}\")\n",
        "print(f\"Subtraction: {num1} - {num2} = {subtraction}\")\n",
        "print(f\"Multiplication: {num1} * {num2} = {multiplication}\")\n",
        "print(f\"Division: {num1} / {num2} = {division}\")"
      ],
      "metadata": {
        "colab": {
          "base_uri": "https://localhost:8080/"
        },
        "id": "QQY55Zkf4aLa",
        "outputId": "6b429470-2578-4830-ac91-4e6fc034f4a7"
      },
      "execution_count": null,
      "outputs": [
        {
          "output_type": "stream",
          "name": "stdout",
          "text": [
            "Enter the first number: 100\n",
            "Enter the second number: 5\n",
            "\n",
            "Results:\n",
            "Addition: 100 + 5 = 105\n",
            "Subtraction: 100 - 5 = 95\n",
            "Multiplication: 100 * 5 = 500\n",
            "Division: 100 / 5 = 20.0\n"
          ]
        }
      ]
    },
    {
      "cell_type": "markdown",
      "source": [
        "8. Write a program to demonstrate the use of logical operators."
      ],
      "metadata": {
        "id": "1aH9igG04678"
      }
    },
    {
      "cell_type": "code",
      "source": [
        "# Store values in variables\n",
        "a = 10\n",
        "b = 10\n",
        "c = -10\n",
        "\n",
        "# AND operator: Returns True if both the operands are true\n",
        "\n",
        "\n",
        "#Condition 1\n",
        "if a > 0 and b > 0:\n",
        "    print(\"AND Operator\")\n",
        "    print(\"The numbers are greater than 0\")\n",
        "\n",
        "#Condition 2\n",
        "if a > 0 and b > 0 and c > 0:\n",
        "    print(\"The numbers are greater than 0\")\n",
        "else:\n",
        "    print(\"Atleast one number is not greater than 0\")\n",
        "\n",
        "\n",
        "#OR operator:Returns True if either of the operands is true\n",
        "a = 10\n",
        "b = -10\n",
        "c = 0\n",
        "\n",
        "print(\"\\nOR Operator\")\n",
        " #Condition 1\n",
        "if a > 0 or b > 0:\n",
        "    print(\"Either of the number is greater than 0\")\n",
        "else:\n",
        "    print(\"No number is greater than 0\")\n",
        "\n",
        "#Condition 2\n",
        "if b > 0 or c > 0:\n",
        "    print(\"Either of the number is greater than 0\")\n",
        "else:\n",
        "    print(\"No number is greater than 0\")\n",
        "\n",
        "\n",
        "#NOT Operator: Returns True if the operand is false\n",
        "\n",
        "a = 10\n",
        "\n",
        "print(\"\\nNOT Operator\")\n",
        " #Condition 1\n",
        "if not a:\n",
        "    print(\"Boolean value of a is True\")\n",
        "\n",
        "#Condition 2\n",
        "if not (a % 3 == 0 or a % 5 == 0):\n",
        "    print(\"10 is not divisible by either 3 or 5\")\n",
        "else:\n",
        "    print(\"10 is divisible by either 3 or 5\")"
      ],
      "metadata": {
        "colab": {
          "base_uri": "https://localhost:8080/"
        },
        "id": "jqqJ1GeG5TYA",
        "outputId": "daafa14f-fa96-4395-8ece-883d403b3134"
      },
      "execution_count": null,
      "outputs": [
        {
          "output_type": "stream",
          "name": "stdout",
          "text": [
            "AND Operator\n",
            "The numbers are greater than 0\n",
            "Atleast one number is not greater than 0\n",
            "\n",
            "OR Operator\n",
            "Either of the number is greater than 0\n",
            "No number is greater than 0\n",
            "\n",
            "NOT Operator\n",
            "10 is divisible by either 3 or 5\n"
          ]
        }
      ]
    },
    {
      "cell_type": "markdown",
      "source": [
        "9.Write a Python program to convert user input from string to integer, float, and boolean types."
      ],
      "metadata": {
        "id": "edcPjbNQ81yX"
      }
    },
    {
      "cell_type": "code",
      "source": [
        "#Prompts the user for input\n",
        "user_input = input(\"Enter a value: \")\n",
        "\n",
        "# Convert to Integer\n",
        "\n",
        "integer_value = int(user_input)\n",
        "print(f\"Converted to Integer: {integer_value} (Type: {type(integer_value)})\")\n",
        "\n",
        "# Convert to Float\n",
        "float_value = float(user_input)\n",
        "print(f\"Converted to Float: {float_value} (Type: {type(float_value)})\")"
      ],
      "metadata": {
        "colab": {
          "base_uri": "https://localhost:8080/"
        },
        "id": "SNzZE96R86bv",
        "outputId": "85565e20-3295-4ce2-9b11-b97b2ef3a20f"
      },
      "execution_count": null,
      "outputs": [
        {
          "output_type": "stream",
          "name": "stdout",
          "text": [
            "Enter a value: 78\n",
            "Converted to Integer: 78 (Type: <class 'int'>)\n",
            "Converted to Float: 78.0 (Type: <class 'float'>)\n"
          ]
        }
      ]
    },
    {
      "cell_type": "markdown",
      "source": [
        "10. Write code to demonstrate type casting with list elements.\n"
      ],
      "metadata": {
        "id": "lIaZhJDUAukq"
      }
    },
    {
      "cell_type": "code",
      "source": [
        "# Original list with mixed data types\n",
        "my_list = [\"10\", 20.5, \"30\", 40, \"50.7\"]\n",
        "\n",
        "print(f\"Original list: {my_list}\")\n",
        "print(f\"Types of original elements: {[type(item).__name__ for item in my_list]}\\n\")\n",
        "\n",
        "#typecasting each element to strings using for loop\n",
        "str_list = []\n",
        "for item in my_list:\n",
        "    str_list.append(str(item))\n",
        "print(f\"List after casting to strings: {str_list}\")\n",
        "print(f\"Types of string-casted elements: {[type(item).__name__ for item in str_list]}\\n\")"
      ],
      "metadata": {
        "colab": {
          "base_uri": "https://localhost:8080/"
        },
        "id": "JXS9sFaywFsq",
        "outputId": "ef57f642-710b-43fc-8239-18bd4d66100c"
      },
      "execution_count": null,
      "outputs": [
        {
          "output_type": "stream",
          "name": "stdout",
          "text": [
            "Original list: ['10', 20.5, '30', 40, '50.7']\n",
            "Types of original elements: ['str', 'float', 'str', 'int', 'str']\n",
            "\n",
            "List after casting to strings: ['10', '20.5', '30', '40', '50.7']\n",
            "Types of string-casted elements: ['str', 'str', 'str', 'str', 'str']\n",
            "\n"
          ]
        }
      ]
    },
    {
      "cell_type": "markdown",
      "source": [
        "11.Write a program that checks if a number is positive, negative, or zero.\n"
      ],
      "metadata": {
        "id": "g54br4YGw180"
      }
    },
    {
      "cell_type": "code",
      "source": [
        "# Get input from the user\n",
        "num = float(input(\"Enter a number: \"))\n",
        "\n",
        "# Check the number and print the result\n",
        "if num > 0:\n",
        "   print(\"Positive number\")\n",
        "elif num == 0:\n",
        "   print(\"Zero\")\n",
        "else:\n",
        "   print(\"Negative number\")"
      ],
      "metadata": {
        "colab": {
          "base_uri": "https://localhost:8080/"
        },
        "id": "UmDxBfY-w4lK",
        "outputId": "7dfb90d8-6998-4973-e424-7265c0ad6cc6"
      },
      "execution_count": null,
      "outputs": [
        {
          "output_type": "stream",
          "name": "stdout",
          "text": [
            "Enter a number: -89\n",
            "Negative number\n"
          ]
        }
      ]
    },
    {
      "cell_type": "markdown",
      "source": [
        "12. Write a for loop to print numbers from 1 to 10."
      ],
      "metadata": {
        "id": "I7Y-muRIxv_0"
      }
    },
    {
      "cell_type": "code",
      "source": [
        "for i in range(1, 11):\n",
        "    print(i)"
      ],
      "metadata": {
        "colab": {
          "base_uri": "https://localhost:8080/"
        },
        "id": "caHgCYFXx2aA",
        "outputId": "dd010817-1f49-453a-99d9-ce16ba8576b6"
      },
      "execution_count": null,
      "outputs": [
        {
          "output_type": "stream",
          "name": "stdout",
          "text": [
            "1\n",
            "2\n",
            "3\n",
            "4\n",
            "5\n",
            "6\n",
            "7\n",
            "8\n",
            "9\n",
            "10\n"
          ]
        }
      ]
    },
    {
      "cell_type": "markdown",
      "source": [
        "13.Write a Python program to find the sum of all even numbers between 1 and 50."
      ],
      "metadata": {
        "id": "JLjgR7VUyNsS"
      }
    },
    {
      "cell_type": "code",
      "source": [
        "\n",
        "num = 50\n",
        "sum = 0\n",
        "i = 0\n",
        "while i <= num:\n",
        "    if i % 2 == 0:\n",
        "        sum+=i\n",
        "    i+=1\n",
        "print(f\"Sum of all the even numbers is {sum}\")"
      ],
      "metadata": {
        "colab": {
          "base_uri": "https://localhost:8080/"
        },
        "id": "hPugPcqlySyG",
        "outputId": "349dc8bd-f98b-4309-ef9f-15d7da70b422"
      },
      "execution_count": null,
      "outputs": [
        {
          "output_type": "stream",
          "name": "stdout",
          "text": [
            "Sum of all the even numbers is 650\n"
          ]
        }
      ]
    },
    {
      "cell_type": "markdown",
      "source": [
        "14.Write a program to reverse a string using a while loop."
      ],
      "metadata": {
        "id": "Lpr4QUal0DfP"
      }
    },
    {
      "cell_type": "code",
      "source": [
        "# Get input from the user\n",
        "a = input(\"Please enter your own : \")\n",
        "\n",
        "#variable to store reversed string\n",
        "b = ''\n",
        "i = len(a) - 1\n",
        "\n",
        "#using while loop\n",
        "\n",
        "while(i >= 0):\n",
        "    b = b + a[i]\n",
        "    i = i - 1\n",
        "\n",
        "print(\"\\nThe Original = \", a)\n",
        "print(\"The Inverted = \", b)"
      ],
      "metadata": {
        "colab": {
          "base_uri": "https://localhost:8080/"
        },
        "id": "BePqSsD30PMA",
        "outputId": "9c9997c6-3371-4a07-ddfc-e8658dd9ae89"
      },
      "execution_count": null,
      "outputs": [
        {
          "output_type": "stream",
          "name": "stdout",
          "text": [
            "Please enter your own : pwskills\n",
            "\n",
            "The Original =  pwskills\n",
            "The Inverted =  sllikswp\n"
          ]
        }
      ]
    },
    {
      "cell_type": "markdown",
      "source": [
        "15. Write a Python program to calculate the factorial of a number provided by the user using a while loop."
      ],
      "metadata": {
        "id": "vvEXHmf11Vdl"
      }
    },
    {
      "cell_type": "code",
      "source": [
        "# Get input from the user\n",
        "num = int(input(\"Enter any number: \"))\n",
        "\n",
        "# logic to calculate the factorial of a number\n",
        "fact = 1\n",
        "if num < 0:\n",
        "    print( \"Factorial is not defined for negative numbers.\")\n",
        "elif num == 0:\n",
        "        print (\"Factorial of 0 is 1\")\n",
        "else:\n",
        "      while num >= 1:\n",
        "        fact *= num\n",
        "        num -= 1\n",
        "\n",
        "# print output\n",
        "print(\"Factorial is\", fact)"
      ],
      "metadata": {
        "colab": {
          "base_uri": "https://localhost:8080/"
        },
        "id": "WcPwV_Bt1cNF",
        "outputId": "3cd6a334-e9f4-44e4-918c-b6b5b46a3366"
      },
      "execution_count": null,
      "outputs": [
        {
          "output_type": "stream",
          "name": "stdout",
          "text": [
            "Enter any number: 5\n",
            "Factorial is 120\n"
          ]
        }
      ]
    },
    {
      "cell_type": "markdown",
      "source": [
        "**# Assignment 2**\n",
        "\n",
        "**Data Types and Structures Questions**"
      ],
      "metadata": {
        "id": "I_IxkXBKmRWQ"
      }
    },
    {
      "cell_type": "markdown",
      "source": [
        "Q1. What are data structures, and why are they important\n",
        "A1 Data structures are a way of organizing, storing, and managing data in a computer so that it can be used efficiently. They are important because:\n",
        "\n",
        "\n",
        "1.   Efficiency:\n",
        "Data structures allow for optimized storage and retrieval of data, leading to faster program execution, especially when dealing with large datasets.\n",
        "\n",
        "2. Organization:\n",
        "They provide a structured way to arrange data, making it easier to understand, maintain, and modify code.\n",
        "\n",
        "3. Problem Solving:\n",
        "Different data structures are suited for different types of problems. Choosing the appropriate data structure can significantly simplify the process of solving a problem.\n",
        "\n",
        "4. Algorithm Design:\n",
        "Data structures and algorithms are closely related. Data structures provide the foundation for designing efficient algorithms.\n",
        "\n",
        "5. Scalability:\n",
        "Data structures enable applications to handle increasing amounts of data without performance degradation.\n",
        "\n",
        "6. Reusability:\n",
        "Well-defined data structures can be reused across different parts of a program or even in different programs, promoting modularity and reducing development time.\n",
        "\n",
        "7. Abstraction:\n",
        "Data structures provide a level of abstraction, hiding the underlying implementation details and allowing users to focus on the logical operations.\n",
        "\n",
        "\n",
        "**Q2. Explain the difference between mutable and immutable data types with examples**\n",
        "A2.Mutable data types are those whose values can be modified or altered after they have been created. This means you can change, add, or remove elements within the existing object without creating a new object in memory. Eg., lists.\n",
        "Immutable data types are those whose values cannot be changed or altered once they have been created. Any operation that appears to modify an immutable object actually results in the creation of a new object with the modified value, while the original object remains unchanged. Eg:, Strings.\n",
        "\n",
        "\n",
        "**Q3. What are the main differences between lists and tuples in Python**\n",
        "\n",
        " A3. Lists and tuples both store collections of data. Lista are mutable whereas tuples are immutable.\n",
        "1. Lists are mutable(can be modified).\tTuples are immutable(cannot be modified).\n",
        "2. \tIteration over lists is time-consuming.\tIterations over tuple is faster\n",
        "3. \tLists are better for performing operations, such as insertion and deletion.\tTuples are more suitable for accessing elements efficiently.\n",
        "4. \tLists consume more memory.\tTuples consumes less memory\n",
        "5. \tLists have several built-in methods.\tTuples have fewer built-in methods.\n",
        "6. \tLists are more prone to unexpected changes and errors.\tTuples, being immutable are less error prone.\n",
        "\n",
        "\n",
        "**Q4. Describe how dictionaries store data**\n",
        "\n",
        "A4.Python dictionary is a data structure that stores the value in key: value pairs. Values in a dictionary can be of any data type and can be duplicated, whereas keys can't be repeated and must be immutable.\n",
        "// d = {1: 'Geeks', 2: 'For', 3: 'Geeks'}\n",
        "print(d)\n",
        "Output\n",
        "{1: 'Geeks', 2: 'For', 3: 'Geeks'} //\n",
        "\n",
        "\n",
        "**Q5. Why might you use a set instead of a list in Python**\n",
        "A5. Sets and lists both are used to store collections of elements.\n",
        "The main difference based on varius features are enlisted below:\n",
        "1. **Order**\n",
        "Lists are ordered, elements are indexed and can be accessed via their index.\tSets are unordered, elements do not have a specific position.\n",
        "2. **Uniqueness**\n",
        "Lists can contain duplicate elements.\tSets contain only unique elements, automatically removing duplicates.\n",
        "3. **Mutability**\n",
        "Lists are mutable, elements can be added, removed, or changed.\tSets are also mutable, elements can be added or removed, but individual elements cannot be changed.\n",
        "4. **Performance**\n",
        "Lists are\tslower for membership tests (O(n) complexity) as it may need to check each element.\tSets are faster for membership tests (O(1) average complexity) due to hash table implementation.\n",
        "5. **Operations**\n",
        "Lists\tsupport slicing, indexing, and various sequence operations.\tSets support mathematical operations like union, intersection, and difference.\n",
        "6. **Use Cases of lists**\n",
        "- Use when you need to maintain the order of elements.\n",
        "- Suitable for tasks where elements are accessed by index.\n",
        "- Ideal for collections of items where duplicates are allowed.\n",
        "6b.**Use Cases of Sets**\n",
        "- Use when you need to ensure all elements are unique.\n",
        "- Suitable for membership testing and eliminating duplicates.\n",
        "- Ideal for mathematical set operations like union, intersection, and difference.\n",
        "\n",
        "\n",
        "**Q6. What is a string in Python, and how is it different from a list**\n",
        "A6. In Python, a string is an immutable sequence of characters, used to represent text. Strings are enclosed in single or double quotes. Once a string is created, its individual characters cannot be changed. Any operation that appears to modify a string, like concatenation or slicing, actually creates a new string in memory.\n",
        "A list, on the other hand, is a mutable, ordered sequence of items. Lists are enclosed in square brackets ([...]) and can contain elements of different data types (integers, floats, strings, even other lists). Unlike strings, lists can be modified after creation by adding, removing, or changing elements at specific positions.\n",
        "\n",
        "\n",
        "**Q7. How do tuples ensure data integrity in Python **\n",
        "A7: Since tuples are immutable they provide a strong guarantee against accidental or unintended modification of the data it contains. This helps to ensure consistency.Because tuples are immutable, their hash value remains constant. This allows them to be used as keys in dictionaries\n",
        "\n",
        "**Q8. What is a hash table, and how does it relate to dictionaries in Python**\n",
        "A8.The fundamental mechanism behind dictionary storage involves hash tables. When a key-value pair is added to a dictionary:\n",
        "**1. Hashing the Key:**\n",
        "A hash function calculates a numerical \"hash\" value from the key. This hash value is an integer that ideally represents the key uniquely.\n",
        "**2. Determining Storage Location:**\n",
        "The hash value is then used to determine an index within an underlying array or list, which serves as the primary storage for the hash table. This often involves a modulo operation (hash % array\\_size) to ensure the index falls within the bounds of the array.\n",
        "**3. Storing the Pair:**\n",
        "The key-value pair, or a reference to it, is stored at the calculated index in the underlying array.\n",
        "When a value needs to be retrieved using its key:\n",
        "**1. Re-hashing the Key:** The same hash function is applied to the key to re-calculate its hash value.\n",
        "**2. Locating the Index:** The hash value is used to find the corresponding index in the underlying array, similar to the storage process.\n",
        "**3. Retrieving the Value:** The value associated with the key at that index is then retrieved.\n",
        "\n",
        "**Q9. Can lists contain different data types in Python**\n",
        "A9. Yes, Python lists can contain elements of different data types.\n",
        "Lists are used to store multiple items in a single variable.They are one of 4 built-in data types in Python used to store collections of data, the other 3 are Tuple, Set, and Dictionary, all with different qualities and usage.\n",
        "\n",
        "1. Lists are created using square brackets:\n",
        "2. List items are ordered, changeable, and allow duplicate values.\n",
        "3. List items are indexed, the first item has index [0], the second item has index [1] etc.\n",
        "\n",
        "\n",
        "For example, a single Python list can hold integers, floats, strings, booleans, and even other complex data structures like nested lists, tuples, or dictionaries, all within the same list.\n",
        "Here is an example demonstrating this:\n",
        "\n",
        "my_heterogeneous_list = [10, \"hello\", 3.14, True, [1, 2], {\"key\": \"value\"}]\n",
        "print(my_heterogeneous_list)\n",
        "\n",
        "In this example, my_heterogeneous_list contains an integer, a string, a float, a boolean, a nested list, and a dictionary, all within one list.\n",
        "\n",
        "\n",
        "**Q10. Explain why strings are immutable in Python**\n",
        "A10. Strings in Python are \"immutable\" which means they can not be changed after they are created. Some other immutable data types are integers, float, boolean, etc.\n",
        "The immutability of Python string is very useful as it helps in hashing, performance optimization, safety, ease of use, optimize memory usage, reduces bugs, etc.\n",
        "\n",
        "\n",
        "**Q11. What advantages do dictionaries offer over lists for certain tasks**\n",
        "A11. Dictionaries offer several advantages over lists for certain tasks due to their ability to store and retrieve data based on unique keys, making them ideal for scenarios requiring fast lookups and data mapping.\n",
        "**Advantages of Dictionaries:**\n",
        "**Faster Lookups:**\n",
        "Dictionaries use hash tables for efficient key-based lookups, allowing for near constant-time (O(1)) retrieval of values, whereas lists require traversing the list to find a specific element (O(n)).\n",
        "**Key-Value Association:**\n",
        "Dictionaries store data as key-value pairs, making it easy to associate related data and access it using descriptive keys. This is particularly useful for mapping relationships between items.\n",
        "**Dynamic Structure:**\n",
        "Dictionaries are mutable, allowing for the addition, modification, or removal of key-value pairs as needed, providing flexibility in managing data.\n",
        "**Suitable for Large Datasets:**\n",
        "Due to their efficient data retrieval, dictionaries are well-suited for storing and accessing large amounts of data quickly.\n",
        "**Examples of When Dictionaries are Preferred:**\n",
        "**Storing phone numbers:**\n",
        "Instead of a list of name-number pairs, a dictionary can map names to phone numbers for quick lookups.\n",
        "**Caching frequently accessed data:**\n",
        "Dictionaries can store frequently accessed data with unique identifiers (keys) for fast retrieval.\n",
        "**Implementing databases:**\n",
        "Dictionaries can be used to store and retrieve data records using unique IDs.\n",
        "**Representing complex data structures:**\n",
        "Dictionaries can be nested to represent hierarchical data with key-value relationships.\n",
        "**When Lists are More Suitable:**\n",
        "**Ordered sequences:**\n",
        "Lists are ideal when the order of elements is important and needs to be maintained.\n",
        "**Simple data storage:**\n",
        "For simple, unordered data, lists are sufficient and more memory-efficient than dictionaries.\n",
        "**Sequential processing:**\n",
        "Lists are faster for operations like appending, extending, and iterating through elements in a sequence.  \n",
        "\n",
        "**Q12. How do sets handle duplicate values in Python **\n",
        "\n",
        "Q13. Describe a scenario where using a tuple would be preferable over a list Q14. How does the “in” keyword work differently for lists and dictionaries Q15. Can you modify the elements of a tuple? Explain why or why not\n",
        "Q16. What is a nested dictionary, and give an example of its use case\n",
        "Q17. Describe the time complexity of accessing elements in a dictionary\n",
        "Q18. In what situations are lists preferred over dictionaries\n",
        "Q19. Why are dictionaries considered unordered, and how does that affect data retrieval\n",
        "Q20. Explain the difference between a list and a dictionary in terms of data retrieval."
      ],
      "metadata": {
        "id": "ryXEQD5zm7_Y"
      }
    }
  ]
}