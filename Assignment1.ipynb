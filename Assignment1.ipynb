{
  "nbformat": 4,
  "nbformat_minor": 0,
  "metadata": {
    "colab": {
      "provenance": []
    },
    "kernelspec": {
      "name": "python3",
      "display_name": "Python 3"
    },
    "language_info": {
      "name": "python"
    }
  },
  "cells": [
    {
      "cell_type": "markdown",
      "source": [
        "Python Basics Question\n",
        "\n",
        "Q1: What is Python, and why is it popular?\n",
        "\n",
        "A1: Python is a programming language developed by Guido van Rossum. It is a   versatile, general-purpose language used for website and software development, task automation, data analysis, and data visualisation.\n",
        "It is popular because of the following reasons:\n",
        "a). It has a simple syntax that mimics natural language, so it’s easier to read and understand. This makes it quicker to build projects and faster to improve on them.\n",
        "b). It is versatile. Python can be used for many different tasks, from web development to machine learning.\n",
        "c). It is beginner-friendly, making it popular for entry-level coders.\n",
        "d). It is open source, which means it is free to use and distribute, even for commercial purposes.\n",
        "e). Python’s archive of modules and libraries—bundles of code that third-party users have created to expand Python’s capabilities—is vast and growing.\n",
        "f). Python has a large and active community that contributes to Python’s pool of modules and libraries and acts as a helpful resource for other programmers.\n",
        "\n",
        "\n",
        "---\n",
        "\n",
        "\n",
        "Q2. What is an interpreter in Python?\n",
        "A2. A Python interpreter is a program that converts Python code into machine-readable instructions and runs them, enabling us to execute Python scripts and view results instantly. It acts as a bridge between the high-level Python code we write and the low-level instructions that the computer can directly utilize.\n",
        "\n",
        "\n",
        "---\n",
        "\n",
        "\n",
        "Q3. What are pre-defined keywords in Python?\n",
        "A3. Pre-defined keywords in Python are special, reserved words that have specific meanings and functionalities within the language. These are case sensitive that can't be redefined in the code.They cannot be used as identifiers (e.g., variable names, function names, class names) in the code. For eg., for, while, if-elif-else, etc.\n",
        "\n",
        "---\n",
        "\n",
        "\n",
        "\n",
        "Q4. Can keywords be used as variable names\n",
        "A4. No. Keywords are used to control program flow (e.g., if, else, for, while), define functions (def), handle exceptions (try, except), and more.\n",
        "\n",
        "\n",
        "---\n",
        "\n",
        "\n",
        "Q5. What is mutability in Python\n",
        "A5. Mutable objects are those whose values can be changed in place after creation. This means you can alter their contents without creating a new object in memory. Examples of mutable types in Python include:\n",
        "Lists, Dictionaries, Sets, etc.\n",
        "\n",
        "\n",
        "---\n",
        "\n",
        "\n",
        "Q6. Why are lists mutable, but tuples are immutable\n",
        "A6. Lists(mutable) are designed to be dynamic, allowing for flexibility in data manipulation. They have built-in methods like append(), insert(), etc to modify it's contents in place.\n",
        "Tuples(immutable) are intended to represent fixed collections of data. They don't have methods to modify their elements directly. Attempting to change a tuple's elements will result in an error.\n",
        "\n",
        "\n",
        "---\n",
        "\n",
        "\n",
        "Q7. What is the difference between “==” and “is” operators in Python\n",
        "A7. Equality operator : \"==\"\n",
        "It determines if the values of two objects are the same.For eg:, list1 == list2 would be True if both lists contain the same elements in the same order.\n",
        "Identity operator:\"is\"\n",
        "This operator checks for object identity. It determines if two variables refer to the exact same object in memory.\n",
        "\n",
        "\n",
        "---\n",
        "\n",
        "\n",
        "Q8. What are logical operators in Python\n",
        "A8. Python offers three logical operators: and, or, and not.\n",
        "1.) and operator:\n",
        "It returns True if both operands are True and returns False if at least one operand is False.\n",
        "2.) or operator:\n",
        "It returns True if at least one operand is True and returns False if both operands are False.\n",
        "3.) not operator:\n",
        "A unary operator that reverses the Boolean value of its operand.\n",
        "If the operand is True, it returns False and if the operand is False, it will return True.\n",
        "\n",
        "\n",
        "---\n",
        "\n",
        "\n",
        "\n",
        "Q9. What is type casting in Python\n",
        "A9. Type casting or type conversion, is the process of converting a variable or value from one data type to another. This can be done explicitly (by  programmer) or implicitly (by interpreter).\n",
        "For eg., .int(), .float(), etc change the values to integers and float respectively.\n",
        "\n",
        "\n",
        "---\n",
        "\n",
        "\n",
        "Q10.What is the difference between implicit and explicit type casting\n",
        "A10. Explicit Type Casting:\n",
        "This involves manually converting a data type using built-in functions specific to the target type. Common functions include:\n",
        "int(), float(), list(), dict(), etc\n",
        "Implicit Type Casting:\n",
        "This occurs automatically when the Python interpreter converts data types to avoid errors during operations involving different types.\n",
        "Example: When adding an integer and a float, the integer is implicitly converted to a float before the addition.\n",
        "\n",
        "---\n",
        "\n",
        "\n",
        "Q11.What is the purpose of conditional statements in Python\n",
        "Conditional statements in Python are used to execute certain blocks of code based on specific conditions. These statements help control the flow of a program.For eg:, if, elif, else.\n",
        "There output is in boolean TRUE or FALSE. Proper indentation has to be followed.\n",
        "\n",
        "---\n",
        "\n",
        "\n",
        "Q12.How does the elif statement work\n",
        "elif statement allows for checking multiple conditions sequentially. If the if condition is False, the program checks the elif condition. Multiple elif statements can be used to handle various scenarios.\n",
        "eg,\n",
        "score = 75\n",
        "    if score >= 90:\n",
        "        print(\"Grade A\")\n",
        "    elif score >= 80:\n",
        "        print(\"Grade B\")\n",
        "    elif score >= 70:\n",
        "        print(\"Grade C\")\n",
        "    else:\n",
        "        print(\"Grade D or lower\")\n",
        "\n",
        "\n",
        "---\n",
        "\n",
        "\n",
        "Q13.What is the difference between for and while loops\n",
        "A13.for loops are used when we know the number of iterations beforehand, while while loops are used when the number of iterations is not known in advance and depends on a condition being met.\n",
        "For eg:, If we want to print the numbers from 1 to 5 usthen we will use a for loop\n",
        "for i in range(1, 6):\n",
        "    print(i)\n",
        " But if we want to print numbers starting from 1 and continues until it reaches a number less than 100, then we will use while\n",
        " i = 1\n",
        "while i < 100:\n",
        "    print(i)\n",
        "    i += 1  \n",
        "\n",
        "\n",
        "---\n",
        "\n",
        "\n",
        "Q14.Describe a scenario where a while loop is more suitable than a for loop.\n",
        "A while situations where the number of iterations is not predetermined and depends on some dynamic condition. For eg, if i want to read data from a file Until EOF(end of file) then since the number of iterations are not fixed, we will use while loop.\n",
        "eg.2: When there are complex conditions or when the value of variables can change and we need to exit the loop early based on dynamic conditions that may change during execution we should use while loop.\n"
      ],
      "metadata": {
        "id": "itzEJqEA3G80"
      }
    },
    {
      "cell_type": "markdown",
      "source": [
        "# **Practical Questions**"
      ],
      "metadata": {
        "id": "6xds6EE0xR6H"
      }
    },
    {
      "cell_type": "markdown",
      "source": [
        "1. Write a Python program to print \"Hello, World!\""
      ],
      "metadata": {
        "id": "8U_WF6_oxao_"
      }
    },
    {
      "cell_type": "code",
      "execution_count": 1,
      "metadata": {
        "id": "wAyKNOL13AK6",
        "colab": {
          "base_uri": "https://localhost:8080/"
        },
        "outputId": "9c4fdce7-19cf-49a9-d313-8c38f738941d"
      },
      "outputs": [
        {
          "output_type": "stream",
          "name": "stdout",
          "text": [
            "hello world\n"
          ]
        }
      ],
      "source": [
        "print(\"hello world\")\n"
      ]
    },
    {
      "cell_type": "markdown",
      "source": [
        "2. Write a Python program that displays your name and age"
      ],
      "metadata": {
        "id": "aJAMmGg7xmGf"
      }
    },
    {
      "cell_type": "code",
      "source": [
        "name= \"pwskill\"\n",
        "age=20\n",
        "print(f\"My name is {name} and I am {age} years old.\")"
      ],
      "metadata": {
        "colab": {
          "base_uri": "https://localhost:8080/"
        },
        "id": "AWqle2Fyxr-t",
        "outputId": "bf269225-3975-48ef-d5a2-6b767c75a5f6"
      },
      "execution_count": 3,
      "outputs": [
        {
          "output_type": "stream",
          "name": "stdout",
          "text": [
            "My name is pwskill and I am 20 years old.\n"
          ]
        }
      ]
    },
    {
      "cell_type": "markdown",
      "source": [
        "3. Write code to print all the pre-defined keywords in Python using the keyword library"
      ],
      "metadata": {
        "id": "-2hUBKZYyNwg"
      }
    },
    {
      "cell_type": "code",
      "source": [
        "import keyword\n",
        "print(keyword.kwlist)"
      ],
      "metadata": {
        "colab": {
          "base_uri": "https://localhost:8080/"
        },
        "id": "z6RDaXYFyXhx",
        "outputId": "a3e04ead-8db5-42ec-d268-5a8466485d77"
      },
      "execution_count": 4,
      "outputs": [
        {
          "output_type": "stream",
          "name": "stdout",
          "text": [
            "['False', 'None', 'True', 'and', 'as', 'assert', 'async', 'await', 'break', 'class', 'continue', 'def', 'del', 'elif', 'else', 'except', 'finally', 'for', 'from', 'global', 'if', 'import', 'in', 'is', 'lambda', 'nonlocal', 'not', 'or', 'pass', 'raise', 'return', 'try', 'while', 'with', 'yield']\n"
          ]
        }
      ]
    },
    {
      "cell_type": "markdown",
      "source": [
        "4. Write a program that checks if a given word is a Python keyword."
      ],
      "metadata": {
        "id": "gb4LCEwryr_F"
      }
    },
    {
      "cell_type": "code",
      "source": [
        "import keyword\n",
        "\n",
        "s = input(\"Enter a word to check: \")\n",
        "\n",
        "# Check if it's a Python keyword\n",
        "if keyword.iskeyword(s):\n",
        "    print(f\"'{s}' is a Python keyword.\")\n",
        "else:\n",
        "    print(f\"'{s}' is not a Python keyword.\")"
      ],
      "metadata": {
        "colab": {
          "base_uri": "https://localhost:8080/"
        },
        "id": "YIoz26HmzCcJ",
        "outputId": "0b842c08-e4a3-4068-ee8c-f09515fb956a"
      },
      "execution_count": 6,
      "outputs": [
        {
          "output_type": "stream",
          "name": "stdout",
          "text": [
            "Enter a word to check: pwskill\n",
            "'pwskill' is not a Python keyword.\n"
          ]
        }
      ]
    },
    {
      "cell_type": "markdown",
      "source": [
        "5. Create a list and tuple in Python, and demonstrate how attempting to change an element works differently for each."
      ],
      "metadata": {
        "id": "o4xeVpAQzgGA"
      }
    },
    {
      "cell_type": "code",
      "source": [
        "# Create a list\n",
        "my_list = [10, 20, 30, 40]\n",
        "\n",
        "print(f\"Original list: {my_list}\")\n",
        "my_list[1] = 200  # Changing the element at index 1\n",
        "print(f\"Modified list: {my_list}\")\n",
        "\n",
        "# Create a tuple\n",
        "my_tuple = (10, 20, 30, 40)\n",
        "my_tuple[1] = 25  # Attempting to change the element at index 1\n",
        "print(f\"Error when modifying tuple\")"
      ],
      "metadata": {
        "colab": {
          "base_uri": "https://localhost:8080/",
          "height": 228
        },
        "id": "fZ_Q_pQR0KPn",
        "outputId": "95202399-6aa9-4fcf-e579-0c4265d6af93"
      },
      "execution_count": 13,
      "outputs": [
        {
          "output_type": "stream",
          "name": "stdout",
          "text": [
            "Original list: [10, 20, 30, 40]\n",
            "Modified list: [10, 200, 30, 40]\n"
          ]
        },
        {
          "output_type": "error",
          "ename": "TypeError",
          "evalue": "'tuple' object does not support item assignment",
          "traceback": [
            "\u001b[0;31m---------------------------------------------------------------------------\u001b[0m",
            "\u001b[0;31mTypeError\u001b[0m                                 Traceback (most recent call last)",
            "\u001b[0;32m/tmp/ipython-input-13-2426809294.py\u001b[0m in \u001b[0;36m<cell line: 0>\u001b[0;34m()\u001b[0m\n\u001b[1;32m      8\u001b[0m \u001b[0;31m# Create a tuple\u001b[0m\u001b[0;34m\u001b[0m\u001b[0;34m\u001b[0m\u001b[0m\n\u001b[1;32m      9\u001b[0m \u001b[0mmy_tuple\u001b[0m \u001b[0;34m=\u001b[0m \u001b[0;34m(\u001b[0m\u001b[0;36m10\u001b[0m\u001b[0;34m,\u001b[0m \u001b[0;36m20\u001b[0m\u001b[0;34m,\u001b[0m \u001b[0;36m30\u001b[0m\u001b[0;34m,\u001b[0m \u001b[0;36m40\u001b[0m\u001b[0;34m)\u001b[0m\u001b[0;34m\u001b[0m\u001b[0;34m\u001b[0m\u001b[0m\n\u001b[0;32m---> 10\u001b[0;31m \u001b[0mmy_tuple\u001b[0m\u001b[0;34m[\u001b[0m\u001b[0;36m1\u001b[0m\u001b[0;34m]\u001b[0m \u001b[0;34m=\u001b[0m \u001b[0;36m25\u001b[0m  \u001b[0;31m# Attempting to change the element at index 1\u001b[0m\u001b[0;34m\u001b[0m\u001b[0;34m\u001b[0m\u001b[0m\n\u001b[0m\u001b[1;32m     11\u001b[0m \u001b[0mprint\u001b[0m\u001b[0;34m(\u001b[0m\u001b[0;34mf\"Error when modifying tuple\"\u001b[0m\u001b[0;34m)\u001b[0m\u001b[0;34m\u001b[0m\u001b[0;34m\u001b[0m\u001b[0m\n",
            "\u001b[0;31mTypeError\u001b[0m: 'tuple' object does not support item assignment"
          ]
        }
      ]
    },
    {
      "cell_type": "markdown",
      "source": [
        "6. Write a function to demonstrate the behavior of mutable and immutable arguments."
      ],
      "metadata": {
        "id": "zSnH7HYN2bZt"
      }
    },
    {
      "cell_type": "code",
      "source": [
        "def change_things(my_list, my_string):\n",
        "  \"\"\"\n",
        "  This function tries to change both a list (mutable) and a string (immutable).\n",
        "  \"\"\"\n",
        "  print(\"Inside the function:\")\n",
        "\n",
        "  # Changing the list (mutable)\n",
        "  print(f\"List before change: {my_list}\")\n",
        "  my_list.append(4)  # Add a new number to the list\n",
        "  print(f\"List after change: {my_list}\")\n",
        "\n",
        "  # Changing the string (immutable)\n",
        "  print(f\"String before change: '{my_string}'\")\n",
        "  my_string = my_string + \" World!\"  # Create a new string with \" World!\" added\n",
        "  print(f\"String after change: '{my_string}'\")\n",
        "\n",
        "my_favorite_numbers = [1, 2, 3]  # A list is mutable\n",
        "my_greeting = \"Hello\"           # A string is immutable\n",
        "\n",
        "print(\"--- Before calling the function ---\")\n",
        "print(f\"My numbers: {my_favorite_numbers}\")\n",
        "print(f\"My greeting: '{my_greeting}'\")\n",
        "\n",
        "change_things(my_favorite_numbers, my_greeting)\n",
        "\n",
        "print(\"\\n--- After calling the function ---\")\n",
        "print(f\"My numbers: {my_favorite_numbers}\")  # The list changed!\n",
        "print(f\"My greeting: '{my_greeting}'\")      # The string stayed the same!"
      ],
      "metadata": {
        "colab": {
          "base_uri": "https://localhost:8080/"
        },
        "id": "gFEFo0mj24M1",
        "outputId": "6de02a4c-7d52-4a17-9de0-9b88e8d75480"
      },
      "execution_count": 17,
      "outputs": [
        {
          "output_type": "stream",
          "name": "stdout",
          "text": [
            "--- Before calling the function ---\n",
            "My numbers: [1, 2, 3]\n",
            "My greeting: 'Hello'\n",
            "Inside the function:\n",
            "List before change: [1, 2, 3]\n",
            "List after change: [1, 2, 3, 4]\n",
            "String before change: 'Hello'\n",
            "String after change: 'Hello World!'\n",
            "\n",
            "--- After calling the function ---\n",
            "My numbers: [1, 2, 3, 4]\n",
            "My greeting: 'Hello'\n"
          ]
        }
      ]
    },
    {
      "cell_type": "markdown",
      "source": [
        "7. Write a program that performs basic arithmetic operations on two user-input numbers."
      ],
      "metadata": {
        "id": "tbMrJXTK38Ho"
      }
    },
    {
      "cell_type": "code",
      "source": [
        "# Get input from the user for two numbers\n",
        "\n",
        "num1 = int(input(\"Enter the first number: \"))\n",
        "num2 = int(input(\"Enter the second number: \"))\n",
        "\n",
        "\n",
        "# Perform arithmetic operations\n",
        "addition = num1 + num2\n",
        "subtraction = num1 - num2\n",
        "multiplication = num1 * num2\n",
        "division = num1/num2\n",
        "\n",
        "\n",
        "# Display the results\n",
        "print(f\"\\nResults:\")\n",
        "print(f\"Addition: {num1} + {num2} = {addition}\")\n",
        "print(f\"Subtraction: {num1} - {num2} = {subtraction}\")\n",
        "print(f\"Multiplication: {num1} * {num2} = {multiplication}\")\n",
        "print(f\"Division: {num1} / {num2} = {division}\")"
      ],
      "metadata": {
        "colab": {
          "base_uri": "https://localhost:8080/"
        },
        "id": "QQY55Zkf4aLa",
        "outputId": "6b429470-2578-4830-ac91-4e6fc034f4a7"
      },
      "execution_count": 19,
      "outputs": [
        {
          "output_type": "stream",
          "name": "stdout",
          "text": [
            "Enter the first number: 100\n",
            "Enter the second number: 5\n",
            "\n",
            "Results:\n",
            "Addition: 100 + 5 = 105\n",
            "Subtraction: 100 - 5 = 95\n",
            "Multiplication: 100 * 5 = 500\n",
            "Division: 100 / 5 = 20.0\n"
          ]
        }
      ]
    },
    {
      "cell_type": "markdown",
      "source": [
        "8. Write a program to demonstrate the use of logical operators."
      ],
      "metadata": {
        "id": "1aH9igG04678"
      }
    },
    {
      "cell_type": "code",
      "source": [
        "# Store values in variables\n",
        "a = 10\n",
        "b = 10\n",
        "c = -10\n",
        "\n",
        "# AND operator: Returns True if both the operands are true\n",
        "\n",
        "\n",
        "#Condition 1\n",
        "if a > 0 and b > 0:\n",
        "    print(\"AND Operator\")\n",
        "    print(\"The numbers are greater than 0\")\n",
        "\n",
        "#Condition 2\n",
        "if a > 0 and b > 0 and c > 0:\n",
        "    print(\"The numbers are greater than 0\")\n",
        "else:\n",
        "    print(\"Atleast one number is not greater than 0\")\n",
        "\n",
        "\n",
        "#OR operator:Returns True if either of the operands is true\n",
        "a = 10\n",
        "b = -10\n",
        "c = 0\n",
        "\n",
        "print(\"\\nOR Operator\")\n",
        " #Condition 1\n",
        "if a > 0 or b > 0:\n",
        "    print(\"Either of the number is greater than 0\")\n",
        "else:\n",
        "    print(\"No number is greater than 0\")\n",
        "\n",
        "#Condition 2\n",
        "if b > 0 or c > 0:\n",
        "    print(\"Either of the number is greater than 0\")\n",
        "else:\n",
        "    print(\"No number is greater than 0\")\n",
        "\n",
        "\n",
        "#NOT Operator: Returns True if the operand is false\n",
        "\n",
        "a = 10\n",
        "\n",
        "print(\"\\nNOT Operator\")\n",
        " #Condition 1\n",
        "if not a:\n",
        "    print(\"Boolean value of a is True\")\n",
        "\n",
        "#Condition 2\n",
        "if not (a % 3 == 0 or a % 5 == 0):\n",
        "    print(\"10 is not divisible by either 3 or 5\")\n",
        "else:\n",
        "    print(\"10 is divisible by either 3 or 5\")"
      ],
      "metadata": {
        "colab": {
          "base_uri": "https://localhost:8080/"
        },
        "id": "jqqJ1GeG5TYA",
        "outputId": "daafa14f-fa96-4395-8ece-883d403b3134"
      },
      "execution_count": 29,
      "outputs": [
        {
          "output_type": "stream",
          "name": "stdout",
          "text": [
            "AND Operator\n",
            "The numbers are greater than 0\n",
            "Atleast one number is not greater than 0\n",
            "\n",
            "OR Operator\n",
            "Either of the number is greater than 0\n",
            "No number is greater than 0\n",
            "\n",
            "NOT Operator\n",
            "10 is divisible by either 3 or 5\n"
          ]
        }
      ]
    },
    {
      "cell_type": "markdown",
      "source": [
        "9.Write a Python program to convert user input from string to integer, float, and boolean types."
      ],
      "metadata": {
        "id": "edcPjbNQ81yX"
      }
    },
    {
      "cell_type": "code",
      "source": [
        "#Prompts the user for input\n",
        "user_input = input(\"Enter a value: \")\n",
        "\n",
        "# Convert to Integer\n",
        "\n",
        "integer_value = int(user_input)\n",
        "print(f\"Converted to Integer: {integer_value} (Type: {type(integer_value)})\")\n",
        "\n",
        "# Convert to Float\n",
        "float_value = float(user_input)\n",
        "print(f\"Converted to Float: {float_value} (Type: {type(float_value)})\")"
      ],
      "metadata": {
        "colab": {
          "base_uri": "https://localhost:8080/"
        },
        "id": "SNzZE96R86bv",
        "outputId": "85565e20-3295-4ce2-9b11-b97b2ef3a20f"
      },
      "execution_count": 34,
      "outputs": [
        {
          "output_type": "stream",
          "name": "stdout",
          "text": [
            "Enter a value: 78\n",
            "Converted to Integer: 78 (Type: <class 'int'>)\n",
            "Converted to Float: 78.0 (Type: <class 'float'>)\n"
          ]
        }
      ]
    },
    {
      "cell_type": "markdown",
      "source": [
        "10. Write code to demonstrate type casting with list elements.\n"
      ],
      "metadata": {
        "id": "lIaZhJDUAukq"
      }
    },
    {
      "cell_type": "code",
      "source": [
        "# Original list with mixed data types\n",
        "my_list = [\"10\", 20.5, \"30\", 40, \"50.7\"]\n",
        "\n",
        "print(f\"Original list: {my_list}\")\n",
        "print(f\"Types of original elements: {[type(item).__name__ for item in my_list]}\\n\")\n",
        "\n",
        "#typecasting each element to strings using for loop\n",
        "str_list = []\n",
        "for item in my_list:\n",
        "    str_list.append(str(item))\n",
        "print(f\"List after casting to strings: {str_list}\")\n",
        "print(f\"Types of string-casted elements: {[type(item).__name__ for item in str_list]}\\n\")"
      ],
      "metadata": {
        "colab": {
          "base_uri": "https://localhost:8080/"
        },
        "id": "JXS9sFaywFsq",
        "outputId": "ef57f642-710b-43fc-8239-18bd4d66100c"
      },
      "execution_count": 15,
      "outputs": [
        {
          "output_type": "stream",
          "name": "stdout",
          "text": [
            "Original list: ['10', 20.5, '30', 40, '50.7']\n",
            "Types of original elements: ['str', 'float', 'str', 'int', 'str']\n",
            "\n",
            "List after casting to strings: ['10', '20.5', '30', '40', '50.7']\n",
            "Types of string-casted elements: ['str', 'str', 'str', 'str', 'str']\n",
            "\n"
          ]
        }
      ]
    },
    {
      "cell_type": "markdown",
      "source": [
        "11.Write a program that checks if a number is positive, negative, or zero.\n"
      ],
      "metadata": {
        "id": "g54br4YGw180"
      }
    },
    {
      "cell_type": "code",
      "source": [
        "# Get input from the user\n",
        "num = float(input(\"Enter a number: \"))\n",
        "\n",
        "# Check the number and print the result\n",
        "if num > 0:\n",
        "   print(\"Positive number\")\n",
        "elif num == 0:\n",
        "   print(\"Zero\")\n",
        "else:\n",
        "   print(\"Negative number\")"
      ],
      "metadata": {
        "colab": {
          "base_uri": "https://localhost:8080/"
        },
        "id": "UmDxBfY-w4lK",
        "outputId": "7dfb90d8-6998-4973-e424-7265c0ad6cc6"
      },
      "execution_count": 3,
      "outputs": [
        {
          "output_type": "stream",
          "name": "stdout",
          "text": [
            "Enter a number: -89\n",
            "Negative number\n"
          ]
        }
      ]
    },
    {
      "cell_type": "markdown",
      "source": [
        "12. Write a for loop to print numbers from 1 to 10."
      ],
      "metadata": {
        "id": "I7Y-muRIxv_0"
      }
    },
    {
      "cell_type": "code",
      "source": [
        "for i in range(1, 11):\n",
        "    print(i)"
      ],
      "metadata": {
        "colab": {
          "base_uri": "https://localhost:8080/"
        },
        "id": "caHgCYFXx2aA",
        "outputId": "dd010817-1f49-453a-99d9-ce16ba8576b6"
      },
      "execution_count": 4,
      "outputs": [
        {
          "output_type": "stream",
          "name": "stdout",
          "text": [
            "1\n",
            "2\n",
            "3\n",
            "4\n",
            "5\n",
            "6\n",
            "7\n",
            "8\n",
            "9\n",
            "10\n"
          ]
        }
      ]
    },
    {
      "cell_type": "markdown",
      "source": [
        "13.Write a Python program to find the sum of all even numbers between 1 and 50."
      ],
      "metadata": {
        "id": "JLjgR7VUyNsS"
      }
    },
    {
      "cell_type": "code",
      "source": [
        "\n",
        "num = 50\n",
        "sum = 0\n",
        "i = 0\n",
        "while i <= num:\n",
        "    if i % 2 == 0:\n",
        "        sum+=i\n",
        "    i+=1\n",
        "print(f\"Sum of all the even numbers is {sum}\")"
      ],
      "metadata": {
        "colab": {
          "base_uri": "https://localhost:8080/"
        },
        "id": "hPugPcqlySyG",
        "outputId": "349dc8bd-f98b-4309-ef9f-15d7da70b422"
      },
      "execution_count": 7,
      "outputs": [
        {
          "output_type": "stream",
          "name": "stdout",
          "text": [
            "Sum of all the even numbers is 650\n"
          ]
        }
      ]
    },
    {
      "cell_type": "markdown",
      "source": [
        "14.Write a program to reverse a string using a while loop."
      ],
      "metadata": {
        "id": "Lpr4QUal0DfP"
      }
    },
    {
      "cell_type": "code",
      "source": [
        "# Get input from the user\n",
        "a = input(\"Please enter your own : \")\n",
        "\n",
        "#variable to store reversed string\n",
        "b = ''\n",
        "i = len(a) - 1\n",
        "\n",
        "#using while loop\n",
        "\n",
        "while(i >= 0):\n",
        "    b = b + a[i]\n",
        "    i = i - 1\n",
        "\n",
        "print(\"\\nThe Original = \", a)\n",
        "print(\"The Inverted = \", b)"
      ],
      "metadata": {
        "colab": {
          "base_uri": "https://localhost:8080/"
        },
        "id": "BePqSsD30PMA",
        "outputId": "9c9997c6-3371-4a07-ddfc-e8658dd9ae89"
      },
      "execution_count": 9,
      "outputs": [
        {
          "output_type": "stream",
          "name": "stdout",
          "text": [
            "Please enter your own : pwskills\n",
            "\n",
            "The Original =  pwskills\n",
            "The Inverted =  sllikswp\n"
          ]
        }
      ]
    },
    {
      "cell_type": "markdown",
      "source": [
        "15. Write a Python program to calculate the factorial of a number provided by the user using a while loop."
      ],
      "metadata": {
        "id": "vvEXHmf11Vdl"
      }
    },
    {
      "cell_type": "code",
      "source": [
        "# Get input from the user\n",
        "num = int(input(\"Enter any number: \"))\n",
        "\n",
        "# logic to calculate the factorial of a number\n",
        "fact = 1\n",
        "if num < 0:\n",
        "    print( \"Factorial is not defined for negative numbers.\")\n",
        "elif num == 0:\n",
        "        print (\"Factorial of 0 is 1\")\n",
        "else:\n",
        "      while num >= 1:\n",
        "        fact *= num\n",
        "        num -= 1\n",
        "\n",
        "# print output\n",
        "print(\"Factorial is\", fact)"
      ],
      "metadata": {
        "colab": {
          "base_uri": "https://localhost:8080/"
        },
        "id": "WcPwV_Bt1cNF",
        "outputId": "3cd6a334-e9f4-44e4-918c-b6b5b46a3366"
      },
      "execution_count": 14,
      "outputs": [
        {
          "output_type": "stream",
          "name": "stdout",
          "text": [
            "Enter any number: 5\n",
            "Factorial is 120\n"
          ]
        }
      ]
    }
  ]
}